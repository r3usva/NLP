{
 "cells": [
  {
   "cell_type": "code",
   "execution_count": 1,
   "id": "b73f16ea-35ea-4c4f-98c0-34567110ed73",
   "metadata": {},
   "outputs": [
    {
     "name": "stdout",
     "output_type": "stream",
     "text": [
      "Defaulting to user installation because normal site-packages is not writeable\n",
      "Collecting nltk\n",
      "  Using cached nltk-3.9.1-py3-none-any.whl.metadata (2.9 kB)\n",
      "Collecting click (from nltk)\n",
      "  Downloading click-8.2.1-py3-none-any.whl.metadata (2.5 kB)\n",
      "Collecting joblib (from nltk)\n",
      "  Downloading joblib-1.5.2-py3-none-any.whl.metadata (5.6 kB)\n",
      "Collecting regex>=2021.8.3 (from nltk)\n",
      "  Downloading regex-2025.9.1-cp311-cp311-win_amd64.whl.metadata (41 kB)\n",
      "Collecting tqdm (from nltk)\n",
      "  Using cached tqdm-4.67.1-py3-none-any.whl.metadata (57 kB)\n",
      "Requirement already satisfied: colorama in c:\\users\\sampa\\appdata\\roaming\\python\\python311\\site-packages (from click->nltk) (0.4.6)\n",
      "Using cached nltk-3.9.1-py3-none-any.whl (1.5 MB)\n",
      "Downloading regex-2025.9.1-cp311-cp311-win_amd64.whl (276 kB)\n",
      "Downloading click-8.2.1-py3-none-any.whl (102 kB)\n",
      "Downloading joblib-1.5.2-py3-none-any.whl (308 kB)\n",
      "Using cached tqdm-4.67.1-py3-none-any.whl (78 kB)\n",
      "Installing collected packages: tqdm, regex, joblib, click, nltk\n",
      "\n",
      "   -------- ------------------------------- 1/5 [regex]\n",
      "   ---------------- ----------------------- 2/5 [joblib]\n",
      "   ---------------- ----------------------- 2/5 [joblib]\n",
      "   -------------------------------- ------- 4/5 [nltk]\n",
      "   -------------------------------- ------- 4/5 [nltk]\n",
      "   -------------------------------- ------- 4/5 [nltk]\n",
      "   -------------------------------- ------- 4/5 [nltk]\n",
      "   -------------------------------- ------- 4/5 [nltk]\n",
      "   -------------------------------- ------- 4/5 [nltk]\n",
      "   -------------------------------- ------- 4/5 [nltk]\n",
      "   -------------------------------- ------- 4/5 [nltk]\n",
      "   -------------------------------- ------- 4/5 [nltk]\n",
      "   -------------------------------- ------- 4/5 [nltk]\n",
      "   -------------------------------- ------- 4/5 [nltk]\n",
      "   -------------------------------- ------- 4/5 [nltk]\n",
      "   ---------------------------------------- 5/5 [nltk]\n",
      "\n",
      "Successfully installed click-8.2.1 joblib-1.5.2 nltk-3.9.1 regex-2025.9.1 tqdm-4.67.1\n",
      "Defaulting to user installation because normal site-packages is not writeable\n",
      "Collecting spacy\n",
      "  Downloading spacy-3.8.7-cp311-cp311-win_amd64.whl.metadata (28 kB)\n",
      "Collecting spacy-legacy<3.1.0,>=3.0.11 (from spacy)\n",
      "  Downloading spacy_legacy-3.0.12-py2.py3-none-any.whl.metadata (2.8 kB)\n",
      "Collecting spacy-loggers<2.0.0,>=1.0.0 (from spacy)\n",
      "  Downloading spacy_loggers-1.0.5-py3-none-any.whl.metadata (23 kB)\n",
      "Collecting murmurhash<1.1.0,>=0.28.0 (from spacy)\n",
      "  Downloading murmurhash-1.0.13-cp311-cp311-win_amd64.whl.metadata (2.2 kB)\n",
      "Collecting cymem<2.1.0,>=2.0.2 (from spacy)\n",
      "  Downloading cymem-2.0.11-cp311-cp311-win_amd64.whl.metadata (8.8 kB)\n",
      "Collecting preshed<3.1.0,>=3.0.2 (from spacy)\n",
      "  Downloading preshed-3.0.10-cp311-cp311-win_amd64.whl.metadata (2.5 kB)\n",
      "Collecting thinc<8.4.0,>=8.3.4 (from spacy)\n",
      "  Downloading thinc-8.3.6-cp311-cp311-win_amd64.whl.metadata (15 kB)\n",
      "Collecting wasabi<1.2.0,>=0.9.1 (from spacy)\n",
      "  Downloading wasabi-1.1.3-py3-none-any.whl.metadata (28 kB)\n",
      "Collecting srsly<3.0.0,>=2.4.3 (from spacy)\n",
      "  Downloading srsly-2.5.1-cp311-cp311-win_amd64.whl.metadata (20 kB)\n",
      "Collecting catalogue<2.1.0,>=2.0.6 (from spacy)\n",
      "  Downloading catalogue-2.0.10-py3-none-any.whl.metadata (14 kB)\n",
      "Collecting weasel<0.5.0,>=0.1.0 (from spacy)\n",
      "  Downloading weasel-0.4.1-py3-none-any.whl.metadata (4.6 kB)\n",
      "Collecting typer<1.0.0,>=0.3.0 (from spacy)\n",
      "  Downloading typer-0.17.4-py3-none-any.whl.metadata (15 kB)\n",
      "Requirement already satisfied: tqdm<5.0.0,>=4.38.0 in c:\\users\\sampa\\appdata\\roaming\\python\\python311\\site-packages (from spacy) (4.67.1)\n",
      "Requirement already satisfied: numpy>=1.19.0 in c:\\users\\sampa\\appdata\\roaming\\python\\python311\\site-packages (from spacy) (2.3.2)\n",
      "Requirement already satisfied: requests<3.0.0,>=2.13.0 in c:\\users\\sampa\\appdata\\roaming\\python\\python311\\site-packages (from spacy) (2.32.5)\n",
      "Collecting pydantic!=1.8,!=1.8.1,<3.0.0,>=1.7.4 (from spacy)\n",
      "  Downloading pydantic-2.11.7-py3-none-any.whl.metadata (67 kB)\n",
      "Requirement already satisfied: jinja2 in c:\\users\\sampa\\appdata\\roaming\\python\\python311\\site-packages (from spacy) (3.1.6)\n",
      "Requirement already satisfied: setuptools in c:\\program files\\python311\\lib\\site-packages (from spacy) (65.5.0)\n",
      "Requirement already satisfied: packaging>=20.0 in c:\\users\\sampa\\appdata\\roaming\\python\\python311\\site-packages (from spacy) (25.0)\n",
      "Collecting langcodes<4.0.0,>=3.2.0 (from spacy)\n",
      "  Downloading langcodes-3.5.0-py3-none-any.whl.metadata (29 kB)\n",
      "Collecting language-data>=1.2 (from langcodes<4.0.0,>=3.2.0->spacy)\n",
      "  Downloading language_data-1.3.0-py3-none-any.whl.metadata (4.3 kB)\n",
      "Collecting annotated-types>=0.6.0 (from pydantic!=1.8,!=1.8.1,<3.0.0,>=1.7.4->spacy)\n",
      "  Using cached annotated_types-0.7.0-py3-none-any.whl.metadata (15 kB)\n",
      "Collecting pydantic-core==2.33.2 (from pydantic!=1.8,!=1.8.1,<3.0.0,>=1.7.4->spacy)\n",
      "  Downloading pydantic_core-2.33.2-cp311-cp311-win_amd64.whl.metadata (6.9 kB)\n",
      "Requirement already satisfied: typing-extensions>=4.12.2 in c:\\users\\sampa\\appdata\\roaming\\python\\python311\\site-packages (from pydantic!=1.8,!=1.8.1,<3.0.0,>=1.7.4->spacy) (4.15.0)\n",
      "Collecting typing-inspection>=0.4.0 (from pydantic!=1.8,!=1.8.1,<3.0.0,>=1.7.4->spacy)\n",
      "  Downloading typing_inspection-0.4.1-py3-none-any.whl.metadata (2.6 kB)\n",
      "Requirement already satisfied: charset_normalizer<4,>=2 in c:\\users\\sampa\\appdata\\roaming\\python\\python311\\site-packages (from requests<3.0.0,>=2.13.0->spacy) (3.4.3)\n",
      "Requirement already satisfied: idna<4,>=2.5 in c:\\users\\sampa\\appdata\\roaming\\python\\python311\\site-packages (from requests<3.0.0,>=2.13.0->spacy) (3.10)\n",
      "Requirement already satisfied: urllib3<3,>=1.21.1 in c:\\users\\sampa\\appdata\\roaming\\python\\python311\\site-packages (from requests<3.0.0,>=2.13.0->spacy) (2.5.0)\n",
      "Requirement already satisfied: certifi>=2017.4.17 in c:\\users\\sampa\\appdata\\roaming\\python\\python311\\site-packages (from requests<3.0.0,>=2.13.0->spacy) (2025.8.3)\n",
      "Collecting blis<1.4.0,>=1.3.0 (from thinc<8.4.0,>=8.3.4->spacy)\n",
      "  Downloading blis-1.3.0-cp311-cp311-win_amd64.whl.metadata (7.6 kB)\n",
      "Collecting confection<1.0.0,>=0.0.1 (from thinc<8.4.0,>=8.3.4->spacy)\n",
      "  Downloading confection-0.1.5-py3-none-any.whl.metadata (19 kB)\n",
      "Requirement already satisfied: colorama in c:\\users\\sampa\\appdata\\roaming\\python\\python311\\site-packages (from tqdm<5.0.0,>=4.38.0->spacy) (0.4.6)\n",
      "Requirement already satisfied: click>=8.0.0 in c:\\users\\sampa\\appdata\\roaming\\python\\python311\\site-packages (from typer<1.0.0,>=0.3.0->spacy) (8.2.1)\n",
      "Collecting shellingham>=1.3.0 (from typer<1.0.0,>=0.3.0->spacy)\n",
      "  Downloading shellingham-1.5.4-py2.py3-none-any.whl.metadata (3.5 kB)\n",
      "Collecting rich>=10.11.0 (from typer<1.0.0,>=0.3.0->spacy)\n",
      "  Downloading rich-14.1.0-py3-none-any.whl.metadata (18 kB)\n",
      "Collecting cloudpathlib<1.0.0,>=0.7.0 (from weasel<0.5.0,>=0.1.0->spacy)\n",
      "  Downloading cloudpathlib-0.22.0-py3-none-any.whl.metadata (16 kB)\n",
      "Collecting smart-open<8.0.0,>=5.2.1 (from weasel<0.5.0,>=0.1.0->spacy)\n",
      "  Downloading smart_open-7.3.0.post1-py3-none-any.whl.metadata (24 kB)\n",
      "Collecting wrapt (from smart-open<8.0.0,>=5.2.1->weasel<0.5.0,>=0.1.0->spacy)\n",
      "  Downloading wrapt-1.17.3-cp311-cp311-win_amd64.whl.metadata (6.5 kB)\n",
      "Collecting marisa-trie>=1.1.0 (from language-data>=1.2->langcodes<4.0.0,>=3.2.0->spacy)\n",
      "  Downloading marisa_trie-1.3.1-cp311-cp311-win_amd64.whl.metadata (10 kB)\n",
      "Collecting markdown-it-py>=2.2.0 (from rich>=10.11.0->typer<1.0.0,>=0.3.0->spacy)\n",
      "  Downloading markdown_it_py-4.0.0-py3-none-any.whl.metadata (7.3 kB)\n",
      "Requirement already satisfied: pygments<3.0.0,>=2.13.0 in c:\\users\\sampa\\appdata\\roaming\\python\\python311\\site-packages (from rich>=10.11.0->typer<1.0.0,>=0.3.0->spacy) (2.19.2)\n",
      "Collecting mdurl~=0.1 (from markdown-it-py>=2.2.0->rich>=10.11.0->typer<1.0.0,>=0.3.0->spacy)\n",
      "  Using cached mdurl-0.1.2-py3-none-any.whl.metadata (1.6 kB)\n",
      "Requirement already satisfied: MarkupSafe>=2.0 in c:\\users\\sampa\\appdata\\roaming\\python\\python311\\site-packages (from jinja2->spacy) (3.0.2)\n",
      "Downloading spacy-3.8.7-cp311-cp311-win_amd64.whl (14.9 MB)\n",
      "   ---------------------------------------- 0.0/14.9 MB ? eta -:--:--\n",
      "   ----- ---------------------------------- 2.1/14.9 MB 11.8 MB/s eta 0:00:02\n",
      "   ----------- ---------------------------- 4.5/14.9 MB 11.7 MB/s eta 0:00:01\n",
      "   ------------------ --------------------- 7.1/14.9 MB 11.8 MB/s eta 0:00:01\n",
      "   ----------------------- ---------------- 8.9/14.9 MB 11.5 MB/s eta 0:00:01\n",
      "   ----------------------------- ---------- 11.0/14.9 MB 10.9 MB/s eta 0:00:01\n",
      "   ------------------------------------ --- 13.6/14.9 MB 11.1 MB/s eta 0:00:01\n",
      "   ---------------------------------------- 14.9/14.9 MB 10.6 MB/s  0:00:01\n",
      "Downloading catalogue-2.0.10-py3-none-any.whl (17 kB)\n",
      "Downloading cymem-2.0.11-cp311-cp311-win_amd64.whl (39 kB)\n",
      "Downloading langcodes-3.5.0-py3-none-any.whl (182 kB)\n",
      "Downloading murmurhash-1.0.13-cp311-cp311-win_amd64.whl (24 kB)\n",
      "Downloading preshed-3.0.10-cp311-cp311-win_amd64.whl (117 kB)\n",
      "Downloading pydantic-2.11.7-py3-none-any.whl (444 kB)\n",
      "Downloading pydantic_core-2.33.2-cp311-cp311-win_amd64.whl (2.0 MB)\n",
      "   ---------------------------------------- 0.0/2.0 MB ? eta -:--:--\n",
      "   ---------------------------------------- 2.0/2.0 MB 12.1 MB/s  0:00:00\n",
      "Downloading spacy_legacy-3.0.12-py2.py3-none-any.whl (29 kB)\n",
      "Downloading spacy_loggers-1.0.5-py3-none-any.whl (22 kB)\n",
      "Downloading srsly-2.5.1-cp311-cp311-win_amd64.whl (632 kB)\n",
      "   ---------------------------------------- 0.0/632.6 kB ? eta -:--:--\n",
      "   ---------------------------------------- 632.6/632.6 kB 12.0 MB/s  0:00:00\n",
      "Downloading thinc-8.3.6-cp311-cp311-win_amd64.whl (1.8 MB)\n",
      "   ---------------------------------------- 0.0/1.8 MB ? eta -:--:--\n",
      "   ---------------------------------------- 1.8/1.8 MB 10.8 MB/s  0:00:00\n",
      "Downloading blis-1.3.0-cp311-cp311-win_amd64.whl (6.2 MB)\n",
      "   ---------------------------------------- 0.0/6.2 MB ? eta -:--:--\n",
      "   ---------------- ----------------------- 2.6/6.2 MB 11.6 MB/s eta 0:00:01\n",
      "   ------------------------------- -------- 5.0/6.2 MB 12.1 MB/s eta 0:00:01\n",
      "   ---------------------------------------- 6.2/6.2 MB 11.6 MB/s  0:00:00\n",
      "Downloading confection-0.1.5-py3-none-any.whl (35 kB)\n",
      "Downloading typer-0.17.4-py3-none-any.whl (46 kB)\n",
      "Downloading wasabi-1.1.3-py3-none-any.whl (27 kB)\n",
      "Downloading weasel-0.4.1-py3-none-any.whl (50 kB)\n",
      "Downloading cloudpathlib-0.22.0-py3-none-any.whl (61 kB)\n",
      "Downloading smart_open-7.3.0.post1-py3-none-any.whl (61 kB)\n",
      "Using cached annotated_types-0.7.0-py3-none-any.whl (13 kB)\n",
      "Downloading language_data-1.3.0-py3-none-any.whl (5.4 MB)\n",
      "   ---------------------------------------- 0.0/5.4 MB ? eta -:--:--\n",
      "   ------------------- -------------------- 2.6/5.4 MB 12.6 MB/s eta 0:00:01\n",
      "   ------------------------------------ --- 5.0/5.4 MB 12.6 MB/s eta 0:00:01\n",
      "   ---------------------------------------- 5.4/5.4 MB 12.1 MB/s  0:00:00\n",
      "Downloading marisa_trie-1.3.1-cp311-cp311-win_amd64.whl (143 kB)\n",
      "Downloading rich-14.1.0-py3-none-any.whl (243 kB)\n",
      "Downloading markdown_it_py-4.0.0-py3-none-any.whl (87 kB)\n",
      "Using cached mdurl-0.1.2-py3-none-any.whl (10.0 kB)\n",
      "Downloading shellingham-1.5.4-py2.py3-none-any.whl (9.8 kB)\n",
      "Downloading typing_inspection-0.4.1-py3-none-any.whl (14 kB)\n",
      "Downloading wrapt-1.17.3-cp311-cp311-win_amd64.whl (38 kB)\n",
      "Installing collected packages: cymem, wrapt, wasabi, typing-inspection, spacy-loggers, spacy-legacy, shellingham, pydantic-core, murmurhash, mdurl, marisa-trie, cloudpathlib, catalogue, blis, annotated-types, srsly, smart-open, pydantic, preshed, markdown-it-py, language-data, rich, langcodes, confection, typer, thinc, weasel, spacy\n",
      "\n",
      "   ---- -----------------------------------  3/28 [typing-inspection]\n",
      "   ------- --------------------------------  5/28 [spacy-legacy]\n",
      "   ----------- ----------------------------  8/28 [murmurhash]\n",
      "   --------------- ------------------------ 11/28 [cloudpathlib]\n",
      "   ------------------ --------------------- 13/28 [blis]\n",
      "   ------------------ --------------------- 13/28 [blis]\n",
      "   --------------------- ------------------ 15/28 [srsly]\n",
      "   --------------------- ------------------ 15/28 [srsly]\n",
      "   --------------------- ------------------ 15/28 [srsly]\n",
      "   --------------------- ------------------ 15/28 [srsly]\n",
      "   ---------------------- ----------------- 16/28 [smart-open]\n",
      "   ------------------------ --------------- 17/28 [pydantic]\n",
      "   ------------------------ --------------- 17/28 [pydantic]\n",
      "   ------------------------ --------------- 17/28 [pydantic]\n",
      "   ------------------------ --------------- 17/28 [pydantic]\n",
      "   --------------------------- ------------ 19/28 [markdown-it-py]\n",
      "   --------------------------- ------------ 19/28 [markdown-it-py]\n",
      "   ---------------------------- ----------- 20/28 [language-data]\n",
      "   ---------------------------- ----------- 20/28 [language-data]\n",
      "   ---------------------------- ----------- 20/28 [language-data]\n",
      "   ---------------------------- ----------- 20/28 [language-data]\n",
      "   ---------------------------- ----------- 20/28 [language-data]\n",
      "   ---------------------------- ----------- 20/28 [language-data]\n",
      "   ---------------------------- ----------- 20/28 [language-data]\n",
      "   ------------------------------ --------- 21/28 [rich]\n",
      "   ------------------------------ --------- 21/28 [rich]\n",
      "   ------------------------------ --------- 21/28 [rich]\n",
      "   -------------------------------- ------- 23/28 [confection]\n",
      "   ----------------------------------- ---- 25/28 [thinc]\n",
      "   ----------------------------------- ---- 25/28 [thinc]\n",
      "   ----------------------------------- ---- 25/28 [thinc]\n",
      "   ----------------------------------- ---- 25/28 [thinc]\n",
      "   ----------------------------------- ---- 25/28 [thinc]\n",
      "   ------------------------------------- -- 26/28 [weasel]\n",
      "   -------------------------------------- - 27/28 [spacy]\n",
      "   -------------------------------------- - 27/28 [spacy]\n",
      "   -------------------------------------- - 27/28 [spacy]\n",
      "   -------------------------------------- - 27/28 [spacy]\n",
      "   -------------------------------------- - 27/28 [spacy]\n",
      "   -------------------------------------- - 27/28 [spacy]\n",
      "   -------------------------------------- - 27/28 [spacy]\n",
      "   -------------------------------------- - 27/28 [spacy]\n",
      "   -------------------------------------- - 27/28 [spacy]\n",
      "   -------------------------------------- - 27/28 [spacy]\n",
      "   -------------------------------------- - 27/28 [spacy]\n",
      "   -------------------------------------- - 27/28 [spacy]\n",
      "   -------------------------------------- - 27/28 [spacy]\n",
      "   -------------------------------------- - 27/28 [spacy]\n",
      "   -------------------------------------- - 27/28 [spacy]\n",
      "   -------------------------------------- - 27/28 [spacy]\n",
      "   -------------------------------------- - 27/28 [spacy]\n",
      "   -------------------------------------- - 27/28 [spacy]\n",
      "   -------------------------------------- - 27/28 [spacy]\n",
      "   -------------------------------------- - 27/28 [spacy]\n",
      "   -------------------------------------- - 27/28 [spacy]\n",
      "   -------------------------------------- - 27/28 [spacy]\n",
      "   -------------------------------------- - 27/28 [spacy]\n",
      "   -------------------------------------- - 27/28 [spacy]\n",
      "   -------------------------------------- - 27/28 [spacy]\n",
      "   -------------------------------------- - 27/28 [spacy]\n",
      "   ---------------------------------------- 28/28 [spacy]\n",
      "\n",
      "Successfully installed annotated-types-0.7.0 blis-1.3.0 catalogue-2.0.10 cloudpathlib-0.22.0 confection-0.1.5 cymem-2.0.11 langcodes-3.5.0 language-data-1.3.0 marisa-trie-1.3.1 markdown-it-py-4.0.0 mdurl-0.1.2 murmurhash-1.0.13 preshed-3.0.10 pydantic-2.11.7 pydantic-core-2.33.2 rich-14.1.0 shellingham-1.5.4 smart-open-7.3.0.post1 spacy-3.8.7 spacy-legacy-3.0.12 spacy-loggers-1.0.5 srsly-2.5.1 thinc-8.3.6 typer-0.17.4 typing-inspection-0.4.1 wasabi-1.1.3 weasel-0.4.1 wrapt-1.17.3\n"
     ]
    }
   ],
   "source": [
    "!pip install nltk\n",
    "!pip install spacy"
   ]
  },
  {
   "cell_type": "code",
   "execution_count": 4,
   "id": "ab6f83dd-0ad2-42a9-b531-596e53659470",
   "metadata": {},
   "outputs": [
    {
     "name": "stdout",
     "output_type": "stream",
     "text": [
      "Name: nltk\n",
      "Version: 3.9.1\n",
      "Summary: Natural Language Toolkit\n",
      "Home-page: https://www.nltk.org/\n",
      "Author: NLTK Team\n",
      "Author-email: nltk.team@gmail.com\n",
      "License: Apache License, Version 2.0\n",
      "Location: C:\\Users\\sampa\\AppData\\Roaming\\Python\\Python311\\site-packages\n",
      "Requires: click, joblib, regex, tqdm\n",
      "Required-by: \n"
     ]
    }
   ],
   "source": [
    "!pip show nltk"
   ]
  },
  {
   "cell_type": "code",
   "execution_count": 5,
   "id": "cb19aea7-9bd2-4b5a-9e5c-177b471c0f59",
   "metadata": {},
   "outputs": [
    {
     "name": "stdout",
     "output_type": "stream",
     "text": [
      "Name: spacy\n",
      "Version: 3.8.7\n",
      "Summary: Industrial-strength Natural Language Processing (NLP) in Python\n",
      "Home-page: https://spacy.io\n",
      "Author: Explosion\n",
      "Author-email: contact@explosion.ai\n",
      "License: MIT\n",
      "Location: C:\\Users\\sampa\\AppData\\Roaming\\Python\\Python311\\site-packages\n",
      "Requires: catalogue, cymem, jinja2, langcodes, murmurhash, numpy, packaging, preshed, pydantic, requests, setuptools, spacy-legacy, spacy-loggers, srsly, thinc, tqdm, typer, wasabi, weasel\n",
      "Required-by: \n"
     ]
    }
   ],
   "source": [
    "!pip show spacy"
   ]
  },
  {
   "cell_type": "code",
   "execution_count": 7,
   "id": "dead8d65-2765-404c-9989-77aa7204139c",
   "metadata": {},
   "outputs": [],
   "source": [
    "import nltk"
   ]
  },
  {
   "cell_type": "code",
   "execution_count": 8,
   "id": "b6d451d6-702f-4beb-8474-dcc5b42c646e",
   "metadata": {},
   "outputs": [],
   "source": [
    "text = \"Ben relocated to Paris last year to pursue his passion. He is currently enrolled in a comprehensive course on Natural Language Processing\""
   ]
  },
  {
   "cell_type": "code",
   "execution_count": 9,
   "id": "de26c702-1961-4579-bb82-bf2aca0446b1",
   "metadata": {},
   "outputs": [
    {
     "data": {
      "text/plain": [
       "'Ben relocated to Paris last year to pursue his passion. He is currently enrolled in a comprehensive course on Natural Language Processing'"
      ]
     },
     "execution_count": 9,
     "metadata": {},
     "output_type": "execute_result"
    }
   ],
   "source": [
    "text"
   ]
  },
  {
   "cell_type": "code",
   "execution_count": 10,
   "id": "67ca3d97-2068-4b19-a47f-7246e05b97bd",
   "metadata": {},
   "outputs": [
    {
     "name": "stderr",
     "output_type": "stream",
     "text": [
      "[nltk_data] Downloading package punkt to\n",
      "[nltk_data]     C:\\Users\\sampa\\AppData\\Roaming\\nltk_data...\n",
      "[nltk_data]   Package punkt is already up-to-date!\n"
     ]
    },
    {
     "data": {
      "text/plain": [
       "True"
      ]
     },
     "execution_count": 10,
     "metadata": {},
     "output_type": "execute_result"
    }
   ],
   "source": [
    "nltk.download('punkt')"
   ]
  },
  {
   "cell_type": "code",
   "execution_count": 11,
   "id": "48743f18-1c32-496b-8a79-317eae47da38",
   "metadata": {},
   "outputs": [],
   "source": [
    "from nltk.tokenize import word_tokenize"
   ]
  },
  {
   "cell_type": "code",
   "execution_count": 12,
   "id": "d9065f38-ac9c-4815-b04b-4489eff020db",
   "metadata": {},
   "outputs": [
    {
     "name": "stdout",
     "output_type": "stream",
     "text": [
      "['Ben', 'relocated', 'to', 'Paris', 'last', 'year', 'to', 'pursue', 'his', 'passion', '.', 'He', 'is', 'currently', 'enrolled', 'in', 'a', 'comprehensive', 'course', 'on', 'Natural', 'Language', 'Processing']\n"
     ]
    }
   ],
   "source": [
    "tokens = word_tokenize(text)\n",
    "print(tokens)"
   ]
  },
  {
   "cell_type": "code",
   "execution_count": 15,
   "id": "afd3a0a4-22d5-4cad-afb0-6f72e8f4754d",
   "metadata": {},
   "outputs": [
    {
     "name": "stdout",
     "output_type": "stream",
     "text": [
      "['ben', 'reloc', 'to', 'pari', 'last', 'year', 'to', 'pursu', 'hi', 'passion', '.', 'he', 'is', 'current', 'enrol', 'in', 'a', 'comprehens', 'cours', 'on', 'natur', 'languag', 'process']\n"
     ]
    }
   ],
   "source": [
    "#Stemming\n",
    "from nltk.stem import PorterStemmer\n",
    "stemmer = PorterStemmer()\n",
    "stemmer_words = [stemmer.stem(token) for token in tokens]\n",
    "print(stemmer_words)"
   ]
  },
  {
   "cell_type": "markdown",
   "id": "45274c64-d377-4724-97a7-49897d8746d6",
   "metadata": {},
   "source": []
  },
  {
   "cell_type": "code",
   "execution_count": 19,
   "id": "1efcd53c-ee78-48a2-9a0e-d27b3e1c0f26",
   "metadata": {},
   "outputs": [
    {
     "name": "stdout",
     "output_type": "stream",
     "text": [
      "[('Ben', 'NNP'), ('relocated', 'VBD'), ('to', 'TO'), ('Paris', 'NNP'), ('last', 'JJ'), ('year', 'NN'), ('to', 'TO'), ('pursue', 'VB'), ('his', 'PRP$'), ('passion', 'NN'), ('.', '.'), ('He', 'PRP'), ('is', 'VBZ'), ('currently', 'RB'), ('enrolled', 'VBN'), ('in', 'IN'), ('a', 'DT'), ('comprehensive', 'JJ'), ('course', 'NN'), ('on', 'IN'), ('Natural', 'NNP'), ('Language', 'NNP'), ('Processing', 'NNP')]\n"
     ]
    }
   ],
   "source": [
    "#Part of speech tagging\n",
    "from nltk import pos_tag\n",
    "text_pos_tag = pos_tag(tokens)\n",
    "print(text_pos_tag)"
   ]
  },
  {
   "cell_type": "code",
   "execution_count": 22,
   "id": "b839abe2-aeed-4f0b-adf3-6a1b1f826c8f",
   "metadata": {},
   "outputs": [
    {
     "name": "stdout",
     "output_type": "stream",
     "text": [
      "NNP: noun, proper, singular\n",
      "    Motown Venneboerger Czestochwa Ranzer Conchita Trumplane Christos\n",
      "    Oceanside Escobar Kreisler Sawyer Cougar Yvette Ervin ODI Darryl CTCA\n",
      "    Shannon A.K.C. Meltex Liverpool ...\n"
     ]
    },
    {
     "name": "stderr",
     "output_type": "stream",
     "text": [
      "[nltk_data] Downloading package tagsets_json to\n",
      "[nltk_data]     C:\\Users\\sampa\\AppData\\Roaming\\nltk_data...\n",
      "[nltk_data]   Unzipping help\\tagsets_json.zip.\n"
     ]
    }
   ],
   "source": [
    "import nltk\n",
    "nltk.download('tagsets_json')\n",
    "nltk.help.upenn_tagset(\"NNP\")"
   ]
  },
  {
   "cell_type": "code",
   "execution_count": 24,
   "id": "cf76ac02-cde0-481f-b143-9d44a6a5f613",
   "metadata": {},
   "outputs": [
    {
     "name": "stderr",
     "output_type": "stream",
     "text": [
      "[nltk_data] Downloading package maxent_ne_chunker to\n",
      "[nltk_data]     C:\\Users\\sampa\\AppData\\Roaming\\nltk_data...\n",
      "[nltk_data]   Package maxent_ne_chunker is already up-to-date!\n",
      "[nltk_data] Downloading package maxent_ne_chunker_tab to\n",
      "[nltk_data]     C:\\Users\\sampa\\AppData\\Roaming\\nltk_data...\n",
      "[nltk_data]   Unzipping chunkers\\maxent_ne_chunker_tab.zip.\n",
      "[nltk_data] Downloading package words to\n",
      "[nltk_data]     C:\\Users\\sampa\\AppData\\Roaming\\nltk_data...\n",
      "[nltk_data]   Package words is already up-to-date!\n"
     ]
    },
    {
     "name": "stdout",
     "output_type": "stream",
     "text": [
      "(S\n",
      "  (PERSON Ben/NNP)\n",
      "  relocated/VBD\n",
      "  to/TO\n",
      "  (GPE Paris/NNP)\n",
      "  last/JJ\n",
      "  year/NN\n",
      "  to/TO\n",
      "  pursue/VB\n",
      "  his/PRP$\n",
      "  passion/NN\n",
      "  ./.\n",
      "  He/PRP\n",
      "  is/VBZ\n",
      "  currently/RB\n",
      "  enrolled/VBN\n",
      "  in/IN\n",
      "  a/DT\n",
      "  comprehensive/JJ\n",
      "  course/NN\n",
      "  on/IN\n",
      "  (ORGANIZATION Natural/NNP Language/NNP)\n",
      "  Processing/NNP)\n"
     ]
    }
   ],
   "source": [
    "#Named Entity Recognition\n",
    "nltk.download('maxent_ne_chunker')\n",
    "nltk.download('maxent_ne_chunker_tab')\n",
    "nltk.download('words')\n",
    "entities = nltk.ne_chunk(text_pos_tag)\n",
    "print(entities)"
   ]
  },
  {
   "cell_type": "code",
   "execution_count": 25,
   "id": "0b7a4a7f-bb3f-48e2-9ab2-51c2ee48f09e",
   "metadata": {},
   "outputs": [
    {
     "name": "stdout",
     "output_type": "stream",
     "text": [
      "Defaulting to user installation because normal site-packages is not writeable\n",
      "Collecting en-core-web-lg==3.8.0\n",
      "  Downloading https://github.com/explosion/spacy-models/releases/download/en_core_web_lg-3.8.0/en_core_web_lg-3.8.0-py3-none-any.whl (400.7 MB)\n",
      "     ---------------------------------------- 0.0/400.7 MB ? eta -:--:--\n",
      "     ---------------------------------------- 1.3/400.7 MB 8.4 MB/s eta 0:00:48\n",
      "     ---------------------------------------- 3.1/400.7 MB 8.8 MB/s eta 0:00:46\n",
      "      --------------------------------------- 5.2/400.7 MB 9.4 MB/s eta 0:00:43\n",
      "      --------------------------------------- 7.1/400.7 MB 9.5 MB/s eta 0:00:42\n",
      "      --------------------------------------- 8.7/400.7 MB 9.0 MB/s eta 0:00:44\n",
      "      --------------------------------------- 10.0/400.7 MB 8.6 MB/s eta 0:00:46\n",
      "     - -------------------------------------- 11.8/400.7 MB 8.6 MB/s eta 0:00:46\n",
      "     - -------------------------------------- 13.9/400.7 MB 8.7 MB/s eta 0:00:45\n",
      "     - -------------------------------------- 16.0/400.7 MB 8.9 MB/s eta 0:00:44\n",
      "     - -------------------------------------- 18.1/400.7 MB 9.0 MB/s eta 0:00:43\n",
      "     - -------------------------------------- 19.9/400.7 MB 9.1 MB/s eta 0:00:43\n",
      "     -- ------------------------------------- 22.0/400.7 MB 9.1 MB/s eta 0:00:42\n",
      "     -- ------------------------------------- 23.9/400.7 MB 9.1 MB/s eta 0:00:42\n",
      "     -- ------------------------------------- 26.0/400.7 MB 9.1 MB/s eta 0:00:42\n",
      "     -- ------------------------------------- 28.0/400.7 MB 9.2 MB/s eta 0:00:41\n",
      "     --- ------------------------------------ 30.1/400.7 MB 9.2 MB/s eta 0:00:41\n",
      "     --- ------------------------------------ 32.2/400.7 MB 9.3 MB/s eta 0:00:40\n",
      "     --- ------------------------------------ 34.3/400.7 MB 9.3 MB/s eta 0:00:40\n",
      "     --- ------------------------------------ 36.2/400.7 MB 9.3 MB/s eta 0:00:40\n",
      "     --- ------------------------------------ 38.3/400.7 MB 9.3 MB/s eta 0:00:40\n",
      "     ---- ----------------------------------- 40.4/400.7 MB 9.3 MB/s eta 0:00:39\n",
      "     ---- ----------------------------------- 42.5/400.7 MB 9.4 MB/s eta 0:00:39\n",
      "     ---- ----------------------------------- 44.6/400.7 MB 9.4 MB/s eta 0:00:38\n",
      "     ---- ----------------------------------- 46.7/400.7 MB 9.4 MB/s eta 0:00:38\n",
      "     ---- ----------------------------------- 49.3/400.7 MB 9.5 MB/s eta 0:00:37\n",
      "     ----- ---------------------------------- 51.4/400.7 MB 9.5 MB/s eta 0:00:37\n",
      "     ----- ---------------------------------- 53.7/400.7 MB 9.6 MB/s eta 0:00:37\n",
      "     ----- ---------------------------------- 55.8/400.7 MB 9.6 MB/s eta 0:00:36\n",
      "     ----- ---------------------------------- 58.2/400.7 MB 9.6 MB/s eta 0:00:36\n",
      "     ------ --------------------------------- 60.3/400.7 MB 9.7 MB/s eta 0:00:36\n",
      "     ------ --------------------------------- 62.4/400.7 MB 9.7 MB/s eta 0:00:35\n",
      "     ------ --------------------------------- 64.5/400.7 MB 9.7 MB/s eta 0:00:35\n",
      "     ------ --------------------------------- 66.6/400.7 MB 9.7 MB/s eta 0:00:35\n",
      "     ------ --------------------------------- 68.9/400.7 MB 9.8 MB/s eta 0:00:34\n",
      "     ------- -------------------------------- 71.3/400.7 MB 9.8 MB/s eta 0:00:34\n",
      "     ------- -------------------------------- 73.4/400.7 MB 9.8 MB/s eta 0:00:34\n",
      "     ------- -------------------------------- 75.8/400.7 MB 9.9 MB/s eta 0:00:33\n",
      "     ------- -------------------------------- 78.1/400.7 MB 9.9 MB/s eta 0:00:33\n",
      "     -------- ------------------------------- 80.2/400.7 MB 9.9 MB/s eta 0:00:33\n",
      "     -------- ------------------------------- 82.3/400.7 MB 9.9 MB/s eta 0:00:33\n",
      "     -------- ------------------------------- 84.7/400.7 MB 9.9 MB/s eta 0:00:32\n",
      "     -------- ------------------------------- 86.8/400.7 MB 10.0 MB/s eta 0:00:32\n",
      "     -------- ------------------------------- 88.9/400.7 MB 10.0 MB/s eta 0:00:32\n",
      "     --------- ------------------------------ 91.2/400.7 MB 10.0 MB/s eta 0:00:31\n",
      "     --------- ------------------------------ 93.3/400.7 MB 10.0 MB/s eta 0:00:31\n",
      "     --------- ------------------------------ 95.7/400.7 MB 10.0 MB/s eta 0:00:31\n",
      "     --------- ------------------------------ 97.8/400.7 MB 10.0 MB/s eta 0:00:31\n",
      "     --------- ------------------------------ 100.1/400.7 MB 10.1 MB/s eta 0:00:30\n",
      "     ---------- ----------------------------- 102.5/400.7 MB 10.1 MB/s eta 0:00:30\n",
      "     ---------- ----------------------------- 104.6/400.7 MB 10.1 MB/s eta 0:00:30\n",
      "     ---------- ----------------------------- 106.4/400.7 MB 10.1 MB/s eta 0:00:30\n",
      "     ---------- ----------------------------- 108.8/400.7 MB 10.1 MB/s eta 0:00:29\n",
      "     ----------- ---------------------------- 111.1/400.7 MB 10.1 MB/s eta 0:00:29\n",
      "     ----------- ---------------------------- 113.5/400.7 MB 10.1 MB/s eta 0:00:29\n",
      "     ----------- ---------------------------- 115.6/400.7 MB 10.1 MB/s eta 0:00:29\n",
      "     ----------- ---------------------------- 118.0/400.7 MB 10.1 MB/s eta 0:00:28\n",
      "     ------------ --------------------------- 120.3/400.7 MB 10.2 MB/s eta 0:00:28\n",
      "     ------------ --------------------------- 122.7/400.7 MB 10.2 MB/s eta 0:00:28\n",
      "     ------------ --------------------------- 125.0/400.7 MB 10.2 MB/s eta 0:00:28\n",
      "     ------------ --------------------------- 127.4/400.7 MB 10.2 MB/s eta 0:00:27\n",
      "     ------------- -------------------------- 130.3/400.7 MB 10.3 MB/s eta 0:00:27\n",
      "     ------------- -------------------------- 132.6/400.7 MB 10.3 MB/s eta 0:00:27\n",
      "     ------------- -------------------------- 135.0/400.7 MB 10.3 MB/s eta 0:00:26\n",
      "     ------------- -------------------------- 136.8/400.7 MB 10.3 MB/s eta 0:00:26\n",
      "     ------------- -------------------------- 139.5/400.7 MB 10.3 MB/s eta 0:00:26\n",
      "     -------------- ------------------------- 142.1/400.7 MB 10.3 MB/s eta 0:00:26\n",
      "     -------------- ------------------------- 144.4/400.7 MB 10.4 MB/s eta 0:00:25\n",
      "     -------------- ------------------------- 147.1/400.7 MB 10.4 MB/s eta 0:00:25\n",
      "     -------------- ------------------------- 149.7/400.7 MB 10.4 MB/s eta 0:00:25\n",
      "     --------------- ------------------------ 152.0/400.7 MB 10.5 MB/s eta 0:00:24\n",
      "     --------------- ------------------------ 154.4/400.7 MB 10.5 MB/s eta 0:00:24\n",
      "     --------------- ------------------------ 157.0/400.7 MB 10.5 MB/s eta 0:00:24\n",
      "     --------------- ------------------------ 159.4/400.7 MB 10.5 MB/s eta 0:00:23\n",
      "     ---------------- ----------------------- 162.0/400.7 MB 10.6 MB/s eta 0:00:23\n",
      "     ---------------- ----------------------- 164.9/400.7 MB 10.6 MB/s eta 0:00:23\n",
      "     ---------------- ----------------------- 167.5/400.7 MB 10.6 MB/s eta 0:00:22\n",
      "     ---------------- ----------------------- 169.9/400.7 MB 10.6 MB/s eta 0:00:22\n",
      "     ----------------- ---------------------- 172.5/400.7 MB 10.6 MB/s eta 0:00:22\n",
      "     ----------------- ---------------------- 175.4/400.7 MB 10.7 MB/s eta 0:00:22\n",
      "     ----------------- ---------------------- 178.0/400.7 MB 10.7 MB/s eta 0:00:21\n",
      "     ------------------ --------------------- 180.6/400.7 MB 10.7 MB/s eta 0:00:21\n",
      "     ------------------ --------------------- 183.2/400.7 MB 10.7 MB/s eta 0:00:21\n",
      "     ------------------ --------------------- 186.1/400.7 MB 10.8 MB/s eta 0:00:20\n",
      "     ------------------ --------------------- 188.7/400.7 MB 10.8 MB/s eta 0:00:20\n",
      "     ------------------- -------------------- 190.8/400.7 MB 10.8 MB/s eta 0:00:20\n",
      "     ------------------- -------------------- 193.5/400.7 MB 10.8 MB/s eta 0:00:20\n",
      "     ------------------- -------------------- 196.1/400.7 MB 10.9 MB/s eta 0:00:19\n",
      "     ------------------- -------------------- 199.0/400.7 MB 10.9 MB/s eta 0:00:19\n",
      "     -------------------- ------------------- 201.6/400.7 MB 10.9 MB/s eta 0:00:19\n",
      "     -------------------- ------------------- 204.2/400.7 MB 10.9 MB/s eta 0:00:18\n",
      "     -------------------- ------------------- 206.8/400.7 MB 10.9 MB/s eta 0:00:18\n",
      "     -------------------- ------------------- 209.2/400.7 MB 11.0 MB/s eta 0:00:18\n",
      "     --------------------- ------------------ 212.1/400.7 MB 11.0 MB/s eta 0:00:18\n",
      "     --------------------- ------------------ 215.0/400.7 MB 11.0 MB/s eta 0:00:17\n",
      "     --------------------- ------------------ 217.6/400.7 MB 11.0 MB/s eta 0:00:17\n",
      "     --------------------- ------------------ 219.9/400.7 MB 11.0 MB/s eta 0:00:17\n",
      "     ---------------------- ----------------- 222.6/400.7 MB 11.0 MB/s eta 0:00:17\n",
      "     ---------------------- ----------------- 225.4/400.7 MB 11.1 MB/s eta 0:00:16\n",
      "     ---------------------- ----------------- 228.1/400.7 MB 11.1 MB/s eta 0:00:16\n",
      "     ----------------------- ---------------- 230.9/400.7 MB 11.1 MB/s eta 0:00:16\n",
      "     ----------------------- ---------------- 233.6/400.7 MB 11.1 MB/s eta 0:00:16\n",
      "     ----------------------- ---------------- 236.5/400.7 MB 11.1 MB/s eta 0:00:15\n",
      "     ----------------------- ---------------- 239.1/400.7 MB 11.1 MB/s eta 0:00:15\n",
      "     ------------------------ --------------- 241.7/400.7 MB 11.2 MB/s eta 0:00:15\n",
      "     ------------------------ --------------- 244.6/400.7 MB 11.2 MB/s eta 0:00:14\n",
      "     ------------------------ --------------- 247.5/400.7 MB 11.2 MB/s eta 0:00:14\n",
      "     ------------------------ --------------- 250.1/400.7 MB 11.2 MB/s eta 0:00:14\n",
      "     ------------------------- -------------- 252.4/400.7 MB 11.2 MB/s eta 0:00:14\n",
      "     ------------------------- -------------- 254.5/400.7 MB 11.2 MB/s eta 0:00:14\n",
      "     ------------------------- -------------- 257.2/400.7 MB 11.2 MB/s eta 0:00:13\n",
      "     ------------------------- -------------- 259.8/400.7 MB 11.2 MB/s eta 0:00:13\n",
      "     -------------------------- ------------- 262.7/400.7 MB 11.2 MB/s eta 0:00:13\n",
      "     -------------------------- ------------- 265.3/400.7 MB 11.3 MB/s eta 0:00:12\n",
      "     -------------------------- ------------- 268.2/400.7 MB 11.3 MB/s eta 0:00:12\n",
      "     --------------------------- ------------ 270.5/400.7 MB 11.4 MB/s eta 0:00:12\n",
      "     --------------------------- ------------ 272.6/400.7 MB 11.5 MB/s eta 0:00:12\n",
      "     --------------------------- ------------ 275.5/400.7 MB 11.5 MB/s eta 0:00:11\n",
      "     --------------------------- ------------ 278.1/400.7 MB 11.5 MB/s eta 0:00:11\n",
      "     ---------------------------- ----------- 280.8/400.7 MB 11.5 MB/s eta 0:00:11\n",
      "     ---------------------------- ----------- 283.1/400.7 MB 11.5 MB/s eta 0:00:11\n",
      "     ---------------------------- ----------- 286.0/400.7 MB 11.6 MB/s eta 0:00:10\n",
      "     ---------------------------- ----------- 288.9/400.7 MB 11.6 MB/s eta 0:00:10\n",
      "     ----------------------------- ---------- 291.5/400.7 MB 11.7 MB/s eta 0:00:10\n",
      "     ----------------------------- ---------- 294.4/400.7 MB 11.7 MB/s eta 0:00:10\n",
      "     ----------------------------- ---------- 297.5/400.7 MB 11.8 MB/s eta 0:00:09\n",
      "     ----------------------------- ---------- 300.2/400.7 MB 11.8 MB/s eta 0:00:09\n",
      "     ------------------------------ --------- 303.3/400.7 MB 11.9 MB/s eta 0:00:09\n",
      "     ------------------------------ --------- 305.7/400.7 MB 11.9 MB/s eta 0:00:08\n",
      "     ------------------------------ --------- 308.3/400.7 MB 11.9 MB/s eta 0:00:08\n",
      "     ------------------------------- -------- 311.2/400.7 MB 11.9 MB/s eta 0:00:08\n",
      "     ------------------------------- -------- 313.5/400.7 MB 11.9 MB/s eta 0:00:08\n",
      "     ------------------------------- -------- 316.4/400.7 MB 12.0 MB/s eta 0:00:08\n",
      "     ------------------------------- -------- 318.8/400.7 MB 12.0 MB/s eta 0:00:07\n",
      "     -------------------------------- ------- 321.7/400.7 MB 12.0 MB/s eta 0:00:07\n",
      "     -------------------------------- ------- 324.3/400.7 MB 12.0 MB/s eta 0:00:07\n",
      "     -------------------------------- ------- 327.2/400.7 MB 12.1 MB/s eta 0:00:07\n",
      "     -------------------------------- ------- 330.3/400.7 MB 12.1 MB/s eta 0:00:06\n",
      "     --------------------------------- ------ 332.7/400.7 MB 12.1 MB/s eta 0:00:06\n",
      "     --------------------------------- ------ 335.5/400.7 MB 12.2 MB/s eta 0:00:06\n",
      "     --------------------------------- ------ 338.4/400.7 MB 12.2 MB/s eta 0:00:06\n",
      "     ---------------------------------- ----- 341.0/400.7 MB 12.2 MB/s eta 0:00:05\n",
      "     ---------------------------------- ----- 343.9/400.7 MB 12.2 MB/s eta 0:00:05\n",
      "     ---------------------------------- ----- 346.3/400.7 MB 12.3 MB/s eta 0:00:05\n",
      "     ---------------------------------- ----- 348.9/400.7 MB 12.3 MB/s eta 0:00:05\n",
      "     ----------------------------------- ---- 351.0/400.7 MB 12.3 MB/s eta 0:00:05\n",
      "     ----------------------------------- ---- 353.9/400.7 MB 12.3 MB/s eta 0:00:04\n",
      "     ----------------------------------- ---- 356.5/400.7 MB 12.3 MB/s eta 0:00:04\n",
      "     ----------------------------------- ---- 359.1/400.7 MB 12.3 MB/s eta 0:00:04\n",
      "     ------------------------------------ --- 361.8/400.7 MB 12.4 MB/s eta 0:00:04\n",
      "     ------------------------------------ --- 364.6/400.7 MB 12.4 MB/s eta 0:00:03\n",
      "     ------------------------------------ --- 367.5/400.7 MB 12.5 MB/s eta 0:00:03\n",
      "     ------------------------------------- -- 370.7/400.7 MB 12.5 MB/s eta 0:00:03\n",
      "     ------------------------------------- -- 373.3/400.7 MB 12.5 MB/s eta 0:00:03\n",
      "     ------------------------------------- -- 376.2/400.7 MB 12.5 MB/s eta 0:00:02\n",
      "     ------------------------------------- -- 379.1/400.7 MB 12.6 MB/s eta 0:00:02\n",
      "     -------------------------------------- - 381.9/400.7 MB 12.6 MB/s eta 0:00:02\n",
      "     -------------------------------------- - 384.6/400.7 MB 12.6 MB/s eta 0:00:02\n",
      "     -------------------------------------- - 387.4/400.7 MB 12.7 MB/s eta 0:00:02\n",
      "     -------------------------------------- - 390.1/400.7 MB 12.7 MB/s eta 0:00:01\n",
      "     ---------------------------------------  392.7/400.7 MB 12.7 MB/s eta 0:00:01\n",
      "     ---------------------------------------  395.6/400.7 MB 12.7 MB/s eta 0:00:01\n",
      "     ---------------------------------------  398.2/400.7 MB 12.7 MB/s eta 0:00:01\n",
      "     ---------------------------------------  400.6/400.7 MB 12.7 MB/s eta 0:00:01\n",
      "     ---------------------------------------  400.6/400.7 MB 12.7 MB/s eta 0:00:01\n",
      "     ---------------------------------------  400.6/400.7 MB 12.7 MB/s eta 0:00:01\n",
      "     ---------------------------------------  400.6/400.7 MB 12.7 MB/s eta 0:00:01\n",
      "     ---------------------------------------  400.6/400.7 MB 12.7 MB/s eta 0:00:01\n",
      "     ---------------------------------------  400.6/400.7 MB 12.7 MB/s eta 0:00:01\n",
      "     ---------------------------------------- 400.7/400.7 MB 12.1 MB/s  0:00:35\n",
      "Installing collected packages: en-core-web-lg\n",
      "Successfully installed en-core-web-lg-3.8.0\n",
      "\u001b[38;5;2m[+] Download and installation successful\u001b[0m\n",
      "You can now load the package via spacy.load('en_core_web_lg')\n"
     ]
    }
   ],
   "source": [
    "!python -m spacy download en_core_web_lg"
   ]
  },
  {
   "cell_type": "code",
   "execution_count": 26,
   "id": "479ad2b2-5709-40cd-a050-795701e78820",
   "metadata": {},
   "outputs": [
    {
     "name": "stdout",
     "output_type": "stream",
     "text": [
      "Similarity between 'king' and 'queen' : 0.73\n",
      "Similarity between 'king' and 'apple' : 0.23\n"
     ]
    }
   ],
   "source": [
    "import spacy\n",
    "\n",
    "nlp = spacy.load('en_core_web_lg')\n",
    "\n",
    "\n",
    "#Process words with the model\n",
    "word1 = nlp(\"King\")\n",
    "word2 = nlp(\"queen\")\n",
    "word3 = nlp(\"apple\")\n",
    "\n",
    "#Calculate the similarities\n",
    "similarity1 = word1.similarity(word2)\n",
    "similarity2 = word1.similarity(word3)\n",
    "\n",
    "print(f\"Similarity between 'king' and 'queen' : {similarity1:.2f}\")\n",
    "print(f\"Similarity between 'king' and 'apple' : {similarity2:.2f}\")"
   ]
  },
  {
   "cell_type": "code",
   "execution_count": null,
   "id": "ca5c3df3-d54b-4f29-895f-10e967998852",
   "metadata": {},
   "outputs": [],
   "source": []
  }
 ],
 "metadata": {
  "kernelspec": {
   "display_name": "Python 3 (ipykernel)",
   "language": "python",
   "name": "python3"
  },
  "language_info": {
   "codemirror_mode": {
    "name": "ipython",
    "version": 3
   },
   "file_extension": ".py",
   "mimetype": "text/x-python",
   "name": "python",
   "nbconvert_exporter": "python",
   "pygments_lexer": "ipython3",
   "version": "3.11.0"
  }
 },
 "nbformat": 4,
 "nbformat_minor": 5
}
